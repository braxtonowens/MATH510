{
  "nbformat": 4,
  "nbformat_minor": 0,
  "metadata": {
    "colab": {
      "provenance": [],
      "authorship_tag": "ABX9TyO/92RKZFWZqrX8JYAKTNIH",
      "include_colab_link": true
    },
    "kernelspec": {
      "name": "python3",
      "display_name": "Python 3"
    },
    "language_info": {
      "name": "python"
    }
  },
  "cells": [
    {
      "cell_type": "markdown",
      "metadata": {
        "id": "view-in-github",
        "colab_type": "text"
      },
      "source": [
        "<a href=\"https://colab.research.google.com/github/braxtonowens/MATH510/blob/main/L8_2.ipynb\" target=\"_parent\"><img src=\"https://colab.research.google.com/assets/colab-badge.svg\" alt=\"Open In Colab\"/></a>"
      ]
    },
    {
      "cell_type": "code",
      "execution_count": null,
      "metadata": {
        "id": "llLUfotZVjTy"
      },
      "outputs": [],
      "source": [
        "import numpy as np"
      ]
    },
    {
      "cell_type": "code",
      "source": [
        "'''\n",
        "Function to take QR factorization of an mxn matrix A where m>=n using modified Gram-schmidt orthonomalization\n",
        "'''\n",
        "def msg(A):\n",
        "  m,n = np.shape(A)\n",
        "  r = np.zeros((n,n))\n",
        "  v = np.array(A)\n",
        "  q = np.zeros((m,n))\n",
        "  for i in range(n):\n",
        "    r[i,i] = np.linalg.norm(v[:,i])\n",
        "    q[:,i] = v[:,i]/r[i,i]\n",
        "    for j in range(i+1,n):\n",
        "      r[i,j]=np.dot(np.transpose(q[:,i]),v[:,j])\n",
        "      v[:,j]=v[:,j]-r[i,j]*q[:,i]\n",
        "  return (q,r)\n",
        "  \n",
        "    \n"
      ],
      "metadata": {
        "id": "0Suzz-TjWEi4"
      },
      "execution_count": 26,
      "outputs": []
    },
    {
      "cell_type": "code",
      "source": [
        "A = [[1,2,3,7],[1,3,2,6],[3,2,1,5]]\n",
        "q,r=msg(A)"
      ],
      "metadata": {
        "id": "p0zsk5yRXSt4"
      },
      "execution_count": 29,
      "outputs": []
    },
    {
      "cell_type": "code",
      "source": [
        "print(A-np.dot(q,r))"
      ],
      "metadata": {
        "id": "SW9-gFZ0XbH3",
        "colab": {
          "base_uri": "https://localhost:8080/"
        },
        "outputId": "9a1ed556-fbec-4529-9c1e-2c4547b10aea"
      },
      "execution_count": 30,
      "outputs": [
        {
          "output_type": "stream",
          "name": "stdout",
          "text": [
            "[[ 0.          0.          0.43939394  1.45454545]\n",
            " [ 0.          0.         -0.39393939  0.45454545]\n",
            " [ 0.          0.         -0.34848485 -0.63636364]]\n"
          ]
        }
      ]
    },
    {
      "cell_type": "code",
      "source": [],
      "metadata": {
        "id": "VX58GSluewxB"
      },
      "execution_count": null,
      "outputs": []
    }
  ]
}